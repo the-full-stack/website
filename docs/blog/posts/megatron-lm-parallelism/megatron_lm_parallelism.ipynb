{
  "cells": [
    {
      "attachments": {},
      "cell_type": "markdown",
      "metadata": {
        "id": "sQ4Zg6lqyvyr"
      },
      "source": [
        "# 0. Why?\n",
        "\n"
      ]
    },
    {
      "attachments": {},
      "cell_type": "markdown",
      "metadata": {
        "id": "jMTBOuJa2ug2"
      },
      "source": [
        "Large language models are large.\n",
        "\n",
        "They are so large that even some of the best possible hardware accelerators, like\n",
        "[NVIDIA's H100 GPU](https://lambdalabs.com/blog/nvidia-h100-gpu-deep-learning-performance-analysis),\n",
        "cannot fit all the calculations that transform\n",
        "input text into output text and compute the information\n",
        "used to make the model better during training.\n",
        "\n",
        "That makes training large language models a distributed programming problem,\n",
        "where the work of computing an output is split, or distributed,\n",
        "across multiple accelerators or machines.\n",
        "\n",
        "That's common enough for neural networks:\n",
        "it's actually pretty typical for training\n",
        "to require many GPUs,\n",
        "and the simple solution is to split work\n",
        "across data points, which\n",
        "[isn't so hard](https://lightning.ai/docs/pytorch/stable/accelerators/gpu_intermediate.html?highlight=distributed%20data%20parallel).\n",
        "\n",
        "But for the largest models,\n",
        "things are yet worse:\n",
        "you can't fit all the calculations\n",
        "for the outputs of _even a single layer_\n",
        "on one card.\n",
        "\n",
        "And despite the increases in scale\n",
        "and the rapid pace of innovation in language model applications,\n",
        "the best reference for understanding how the fundamentals of that problem\n",
        "is posed and solved is still a paper from 2020:\n",
        "[_Megatron-LM: Training Multi-Billion Parameter Language Models Using Model Parallelism_](https://arxiv.org/abs/1909.08053).\n",
        "\n",
        "In this blog post/notebook,\n",
        "we'll walk through the main ideas in that paper.\n",
        "Our goal will be to build up an understanding of how to implement\n",
        "a Megatron-style linear layer.\n",
        "\n",
        "We'll use that understanding to implement\n",
        "`ColumnParallelLinear` in PyTorch."
      ]
    },
    {
      "attachments": {},
      "cell_type": "markdown",
      "metadata": {
        "id": "xlrZ_DhHm9LF"
      },
      "source": [
        "## 1. Three Nested Parallelizations\n"
      ]
    },
    {
      "attachments": {},
      "cell_type": "markdown",
      "metadata": {
        "id": "ocC1sKtm5aj3"
      },
      "source": [
        "### Data Parallelism"
      ]
    },
    {
      "attachments": {},
      "cell_type": "markdown",
      "metadata": {
        "id": "rk-DM-MB5l1x"
      },
      "source": [
        "Parallelize by splitting up the data.\n",
        "\n",
        "Each worker gets a piece of a batch and is responsible for running their own replica of hte model on it.\n",
        "\n",
        "Easy! Fun, even! Elements of a batch should have nothing to do with one another.\n",
        "\n",
        "Synchronization: share gradients."
      ]
    },
    {
      "attachments": {},
      "cell_type": "markdown",
      "metadata": {
        "id": "xNtkervc5chV"
      },
      "source": [
        "### Pipeline Parallelism"
      ]
    },
    {
      "attachments": {},
      "cell_type": "markdown",
      "metadata": {
        "id": "Up5S_KPl5oj8"
      },
      "source": [
        "Parallelize by splitting up the model into distinct steps --\n",
        "by layer, typically.\n",
        "\n",
        "Each worker gets assigned one or more layers.\n",
        "\n",
        "Note, this is also known as \"vertical splitting\",\n",
        "because distributed systems people like\n",
        "to write neural networks going left-to-right\n",
        "instead of bottom-to-top.\n",
        "\n",
        "We prefer the term \"pipeline parallelism\"\n",
        "because it's clearer and more evocative.\n",
        "\n",
        "Synchronization: implemented naively,\n",
        "during training a worker needs to wait for\n",
        "the rest of the forward and beginning of the backward pass to complete before they can move forward.\n",
        "\"Bubbles\".\n",
        "\n",
        "Notice that after you've split up your batch into microbatches,\n",
        "you can then further split up the model running on each microbatch:\n",
        "model parallelism is nested within data parallelism.\n",
        "And the only thing different model groups need to share is gradients."
      ]
    },
    {
      "attachments": {},
      "cell_type": "markdown",
      "metadata": {
        "id": "BhS52e_n5fJU"
      },
      "source": [
        "### Tensor Parallelism"
      ]
    },
    {
      "attachments": {},
      "cell_type": "markdown",
      "metadata": {
        "id": "qexiL-Gb6qVU"
      },
      "source": [
        "Parallelize by splitting up matrix multiplications.\n",
        "\n",
        "Each worker gets assigned a piece of a matrix multiplication.\n",
        "\n",
        "This is the trickiest bit, because more information\n",
        "needs to be communicated between workers, and it's where the Megatron-LM paper makes its intellectual contribution.\n",
        "\n",
        "But notice that if you do it right, tensor parallelism can be nested inside pipeline parallelism,\n",
        "which is nested inside data parallelism.\n",
        "\n",
        "That's three levels of parallelization,\n",
        "and that degree of decomposition is what it takes to scale models to 10s or 100s of billions of parameters."
      ]
    },
    {
      "attachments": {},
      "cell_type": "markdown",
      "metadata": {
        "id": "Atfdny6z7_uR"
      },
      "source": [
        "## 2. Megatron-LM: A Recipe for Combining Pipeline & Tensor Parallelism for Transformers"
      ]
    },
    {
      "attachments": {},
      "cell_type": "markdown",
      "metadata": {
        "id": "jMA9J4-BqMuQ"
      },
      "source": [
        "Data parallelism is straightforward enough --\n",
        "in principle, it's just a matter of taking whatever you're doing for a batch size that you're parallelizing with other techniques\n",
        "and then \"copying\" it to multiple instances\n",
        "that each have their own smaller dataset\n",
        "to draw microbatches from\n",
        "and which share gradients at the end of each batch.\n",
        "\n",
        "Megatron-LM is all about the harder part,\n",
        "what you're parallelizing within a microbatch.\n",
        "\n",
        "At high-level, Megatron-LM first breaks down a model\n",
        "into different stages,\n",
        "with each stage having several layers -\n",
        "that's our pipeline parallelism.\n",
        "\n",
        "Within each layer of a given stage in the pipeline,\n",
        "the computation is divided into smaller sections,\n",
        "with each section assigned to a different GPU -\n",
        "that's our tensor parallelism.\n",
        "\n",
        "To make sure we do our parallelization efficiently,\n",
        "we need to be smart when we define the \"sections\"\n",
        "of our computation.\n",
        "\n",
        "For a matrix multiplication,\n",
        "there are two choices:\n",
        "splitting by row and splitting by column.\n",
        "\n",
        "But for most neural network layers,\n",
        "there's only one sensible choice:\n",
        "split along the neuron dimension.\n",
        "That way, you can calculate the output\n",
        "of your non-linearity without communication\n",
        "between workers."
      ]
    },
    {
      "attachments": {},
      "cell_type": "markdown",
      "metadata": {
        "id": "nK6DS4NV-Yde"
      },
      "source": [
        "## 3. Divvying up GPUs"
      ]
    },
    {
      "attachments": {},
      "cell_type": "markdown",
      "metadata": {
        "id": "jtPysHco90VJ"
      },
      "source": [
        "In order to carry out computations across multiple devices, each device initiates multiple processes, each of which handles a specific GPU. This way, each process can directly send computational tasks to its designated GPU. To make this work, Megatron-LM organizes GPUs into three groups:\n",
        "\n",
        "- Data Parallel Group: Each GPU in this group handles the same part of the model, but works on different mini-batches. During backpropagation, each GPU calculates the gradient for its part of the model. These gradients are then averaged to get the overall gradient for updating the model’s parameters.\n",
        "- Tensor Parallel Groups: In this group, each GPU handles different parts of the same layer (or multiple layers). Each GPU computes the output for its designated part and these partial outputs are combined to get the complete output of the layer.\n",
        "- Pipeline Parallel Groups: The GPUs in this group handle different stages of the forward and backward passes."
      ]
    },
    {
      "attachments": {},
      "cell_type": "markdown",
      "metadata": {
        "id": "8wgsStSspcBl"
      },
      "source": [
        "### Data Parallel Groups\n"
      ]
    },
    {
      "attachments": {},
      "cell_type": "markdown",
      "metadata": {
        "id": "pwMZVichqV3t"
      },
      "source": [
        "\n",
        "Megatron-LM uses three variables to set up pipeline parallelism:\n",
        "\n",
        "- `tensor_model_parallel_size`: The number of GPUs across which a layer will be split in tensor parallelism\n",
        "- `pipeline_model_parallel_size`: It represents the number of stages in the pipeline\n",
        "- `data_parallel_size`: It represents the number of model replicas in data parallelism.\n",
        "\n",
        "And then each process keeps a variable for each parallelism group to keep track of which group it belongs to."
      ]
    },
    {
      "cell_type": "code",
      "execution_count": 15,
      "metadata": {
        "id": "HCpkZNx8e-7h"
      },
      "outputs": [],
      "source": [
        "world_size = 16 # the total number of GPUs\n",
        "tensor_model_parallel_size = 2\n",
        "pipeline_model_parallel_size = 4"
      ]
    },
    {
      "attachments": {},
      "cell_type": "markdown",
      "metadata": {
        "id": "vK8MxEyZqb18"
      },
      "source": [
        "\n",
        "In pipeline parallelism, a model is split into `pipeline_model_parallel_size` stages.\n",
        "\n",
        "Because Megatron-LM incorporates both tensor parallelism and pipeline parallelism, so each stage has `tensor_model_parallel_size` GPUs to parallelize the tensor operations in that stage. So, the total number of GPUs required to parallelize a model would be:\n"
      ]
    },
    {
      "cell_type": "code",
      "execution_count": 16,
      "metadata": {
        "id": "NqYofkMcfFM7"
      },
      "outputs": [],
      "source": [
        "num_gpus_for_each_model = tensor_model_parallel_size * pipeline_model_parallel_size # 8"
      ]
    },
    {
      "attachments": {},
      "cell_type": "markdown",
      "metadata": {
        "id": "A2pEvJJ1qcq-"
      },
      "source": [
        "\n",
        "And then to calculate the number of model replicates in data parallelism, we divide the total number of GPUs (`world_size`) by the number of GPUs used for each model (`num_gpus_for_each_model`):\n"
      ]
    },
    {
      "cell_type": "code",
      "execution_count": 17,
      "metadata": {
        "id": "ElB8YVt-fJZx"
      },
      "outputs": [],
      "source": [
        "data_parallel_size = world_size // num_gpus_for_each_model # 2"
      ]
    },
    {
      "attachments": {},
      "cell_type": "markdown",
      "metadata": {
        "id": "1SyKMThHqhaU"
      },
      "source": [
        "\n",
        "Already, so we will have two model replicas. Next, let’s setup all data parallel groups.\n"
      ]
    },
    {
      "cell_type": "code",
      "execution_count": 18,
      "metadata": {
        "colab": {
          "base_uri": "https://localhost:8080/"
        },
        "id": "bcI-N6F6fMJd",
        "outputId": "ae5d76d8-04bc-4271-9c43-c1565d5d3993"
      },
      "outputs": [
        {
          "name": "stdout",
          "output_type": "stream",
          "text": [
            "stage=0, start_rank=0, end_rank=4\n",
            "partition 0, ranks=[0, 2]\n",
            "partition 1, ranks=[1, 3]\n",
            "-------\n",
            "stage=1, start_rank=4, end_rank=8\n",
            "partition 0, ranks=[4, 6]\n",
            "partition 1, ranks=[5, 7]\n",
            "-------\n",
            "stage=2, start_rank=8, end_rank=12\n",
            "partition 0, ranks=[8, 10]\n",
            "partition 1, ranks=[9, 11]\n",
            "-------\n",
            "stage=3, start_rank=12, end_rank=16\n",
            "partition 0, ranks=[12, 14]\n",
            "partition 1, ranks=[13, 15]\n",
            "-------\n"
          ]
        },
        {
          "data": {
            "text/plain": [
              "[[0, 2], [1, 3], [4, 6], [5, 7], [8, 10], [9, 11], [12, 14], [13, 15]]"
            ]
          },
          "execution_count": 18,
          "metadata": {},
          "output_type": "execute_result"
        }
      ],
      "source": [
        "num_pipeline_model_parallel_groups = world_size // pipeline_model_parallel_size # 4\n",
        "\n",
        "data_parallel_groups = []\n",
        "\n",
        "for i in range(pipeline_model_parallel_size):\n",
        "    start_rank = i*num_pipeline_model_parallel_groups\n",
        "    end_rank = (i+1)*num_pipeline_model_parallel_groups\n",
        "    print(f\"stage={i}, start_rank={start_rank}, end_rank={end_rank}\")\n",
        "\n",
        "    for j in range(tensor_model_parallel_size):\n",
        "        ranks = list(range(start_rank+j, end_rank, tensor_model_parallel_size))\n",
        "        data_parallel_groups.append(ranks)\n",
        "        print(f\"partition {j}, ranks={ranks}\")\n",
        "\n",
        "    print(\"-------\")\n",
        "\n",
        "data_parallel_groups"
      ]
    },
    {
      "attachments": {},
      "cell_type": "markdown",
      "metadata": {
        "id": "BinZYPN1q0Tt"
      },
      "source": [
        "\n",
        "![Data Parallel Groups](/images/megatron/megatron-gpus-allocation.jpg)\n",
        "\n",
        "Already, stay calm. Let’s break it down\n",
        "\n",
        "- `for i in range(pipeline_model_parallel_size)`: We iterate through all the stages in the pipeline\n",
        "- `for j in range(tensor_model_parallel_size)`: Within each stage, a layer is divided into `tensor_model_parallel_size` partitions. There will be `tensor_model_parallel_size` data parallel groups in each stage.\n",
        "- `range(start_rank + j, end_rank, tensor_model_parallel_size)`: We iterate through the next group each time, so the starting GPU will be `start_rank + j`. Since our model layer is divided into `tensor_model_parallel_size` parts, each part is assigned to a different GPU. This means the same part of the model in different GPUs is `tensor_model_parallel_size` ranks apart. So, by using a step size of `tensor_model_parallel_size`, we are able to get the same part of the model from different GPUs.\n",
        "\n",
        "Since discussing the setup of parallel groups for tensor parallel and pipeline parallel would make it too long, let’s assume that we have already set up all three groups. Now, the question is: How do we allocate GPUs to CPUs?"
      ]
    },
    {
      "attachments": {},
      "cell_type": "markdown",
      "metadata": {
        "id": "16iLC_S8ptRG"
      },
      "source": [
        "### Allocate GPUs to CPUs\n"
      ]
    },
    {
      "attachments": {},
      "cell_type": "markdown",
      "metadata": {
        "id": "XZsJaGWtqw2n"
      },
      "source": [
        "\n",
        "So, here’s the deal: a CPU starts up multiple processes. Each of these processes gets tied to a GPU because GPUs are way faster at deep learning tasks than CPUs. So, each process sends its task over to its assigned GPU. But how does a process get tied to a specific GPU?"
      ]
    },
    {
      "cell_type": "code",
      "execution_count": 19,
      "metadata": {
        "colab": {
          "base_uri": "https://localhost:8080/"
        },
        "id": "_HfnO1h0fZyg",
        "outputId": "eab1023c-5091-48da-8baa-846a6cf95f0b"
      },
      "outputs": [
        {
          "name": "stdout",
          "output_type": "stream",
          "text": [
            "[0, 1, 2, 3, 0, 1, 2, 3, 0, 1, 2, 3, 0, 1, 2, 3]\n"
          ]
        }
      ],
      "source": [
        "num_gpus = 4\n",
        "process_to_gpu = []\n",
        "\n",
        "for rank in range(world_size):\n",
        "    process_to_gpu.append(rank % num_gpus)\n",
        "\n",
        "print(process_to_gpu)"
      ]
    },
    {
      "attachments": {},
      "cell_type": "markdown",
      "metadata": {
        "id": "WkhBGOOPq9Vi"
      },
      "source": [
        "Well, it’s done in a round-robin way across all available GPUs. This approach makes it really flexible if you change the number of processes or GPUs. And it also works when there are more processes than GPUs."
      ]
    },
    {
      "cell_type": "code",
      "execution_count": 20,
      "metadata": {
        "colab": {
          "base_uri": "https://localhost:8080/"
        },
        "id": "N8glvsQIfhWb",
        "outputId": "1e6b12cf-817e-4296-face-4b2c856ca3c3"
      },
      "outputs": [
        {
          "name": "stdout",
          "output_type": "stream",
          "text": [
            "rank: 0 -> gpu: 0\n",
            "rank: 1 -> gpu: 1\n",
            "rank: 2 -> gpu: 2\n",
            "rank: 3 -> gpu: 3\n",
            "rank: 4 -> gpu: 0\n",
            "rank: 5 -> gpu: 1\n",
            "rank: 6 -> gpu: 2\n",
            "rank: 7 -> gpu: 3\n",
            "rank: 8 -> gpu: 0\n",
            "rank: 9 -> gpu: 1\n",
            "rank: 10 -> gpu: 2\n",
            "rank: 11 -> gpu: 3\n",
            "rank: 12 -> gpu: 0\n",
            "rank: 13 -> gpu: 1\n",
            "rank: 14 -> gpu: 2\n",
            "rank: 15 -> gpu: 3\n"
          ]
        }
      ],
      "source": [
        "[print(f\"rank: {rank} -> gpu: {gpu}\") for rank, gpu in enumerate(process_to_gpu)];"
      ]
    },
    {
      "attachments": {},
      "cell_type": "markdown",
      "metadata": {
        "id": "jE6lkIPuphf2"
      },
      "source": [
        "### MPU (Model Parallel Unit)\n",
        "\n"
      ]
    },
    {
      "attachments": {},
      "cell_type": "markdown",
      "metadata": {
        "id": "FufaIWcPrEFZ"
      },
      "source": [
        "![Data Parallel Groups](/images/megatron/3d-parallelism.png)\n",
        "\n",
        "\n",
        "The MPU class is the one that handles all this GPU allocation. It puts each GPU into the right parallel group, either tensor parallel, model parallel, or pipeline parallel.\n",
        "\n",
        "In a distributed training setting, all nodes run the same code. So, this GPU allocation script gets executed on all nodes in the cluster. PyTorch sets up the communication channels based on the environment variable RANK for each node. After setting up the parallel groups, the MPU class keeps track of which parallel group a CPU belongs to by storing it in a local variable.\n",
        "\n",
        "Now, the pipeline parallelism needs to be set up. But since `data_parallel_size` depends on the number of GPUs per model, so we only need two variables to initialize the pipeline: `tensor_model_parallel_size` and `pipeline_model_parallel_size`. Now let’s put them all together:"
      ]
    },
    {
      "cell_type": "code",
      "execution_count": 21,
      "metadata": {
        "id": "V0w-NUWOXtPa"
      },
      "outputs": [],
      "source": [
        "import os\n",
        "import torch\n",
        "\n",
        "class MPU:\n",
        "    def __init__(\n",
        "        self,\n",
        "        rank,\n",
        "        world_size,\n",
        "        tensor_model_parallel_size,\n",
        "        pipeline_model_parallel_size,\n",
        "        master_addr,\n",
        "        master_port,\n",
        "        backend\n",
        "    ):\n",
        "        if not torch.distributed.is_initialized():\n",
        "            os.environ[\"MASTER_ADDR\"] = str(master_addr)\n",
        "            os.environ[\"MASTER_PORT\"] = str(master_port)\n",
        "\n",
        "            # self.set_device(rank)\n",
        "            torch.distributed.init_process_group(\n",
        "                rank=rank,\n",
        "                world_size=world_size,\n",
        "                backend=backend,\n",
        "            )\n",
        "\n",
        "        current_rank = torch.distributed.get_rank()\n",
        "        world_size = torch.distributed.get_world_size()\n",
        "        self.debug = True\n",
        "\n",
        "        self.num_pipeline_model_parallel_groups = world_size // pipeline_model_parallel_size\n",
        "        self._data_paralell_group = None\n",
        "\n",
        "        # init data parallel group\n",
        "        self.init_data_parallel_group(\n",
        "            rank=current_rank,\n",
        "            tensor_model_parallel_size=tensor_model_parallel_size,\n",
        "            pipeline_model_parallel_size=pipeline_model_parallel_size\n",
        "        )\n",
        "        # init tensor parallel and pipeline paralell groups"
      ]
    },
    {
      "cell_type": "code",
      "execution_count": 22,
      "metadata": {
        "id": "qlSizjJ1fkCt"
      },
      "outputs": [],
      "source": [
        "def set_device(self, rank):\n",
        "    num_gpus = torch.cuda.device_count()\n",
        "    if num_gpus > 0:\n",
        "        device = rank % num_gpus\n",
        "        torch.cuda.set_device(device)\n",
        "\n",
        "\n",
        "def init_data_parallel_group(\n",
        "    self,\n",
        "    rank,\n",
        "    tensor_model_parallel_size,\n",
        "    pipeline_model_parallel_size\n",
        "):\n",
        "    for i in range(pipeline_model_parallel_size):\n",
        "        start_rank = i*self.num_pipeline_model_parallel_groups\n",
        "        end_rank = (i+1)*self.num_pipeline_model_parallel_groups\n",
        "\n",
        "        for j in range(tensor_model_parallel_size):\n",
        "            ranks = list(range(\n",
        "                start_rank+j,\n",
        "                end_rank,\n",
        "                tensor_model_parallel_size\n",
        "            ))\n",
        "\n",
        "            if rank in ranks:\n",
        "                group = torch.distributed.new_group(ranks=ranks)\n",
        "                self._data_paralell_group = group\n",
        "\n",
        "\n",
        "MPU.set_device = set_device\n",
        "MPU.init_data_parallel_group = init_data_parallel_group"
      ]
    },
    {
      "attachments": {},
      "cell_type": "markdown",
      "metadata": {
        "id": "RTpZl22yo3yV"
      },
      "source": [
        "## 2. Distributed Communication\n",
        "\n"
      ]
    },
    {
      "attachments": {},
      "cell_type": "markdown",
      "metadata": {
        "id": "NiGKGzQBrMyE"
      },
      "source": [
        "When we train a model in a distributed manner, there are four atomic operations in distributed communication that we need to perform\n",
        "\n",
        "- Broadcast: We start with a tensor in one process and send it to all the other processes within the group. This is like sharing a piece of information with everyone in the group.\n",
        "- Scatter: We take a tensor from one process and distribute its elements or chunks to all the other processes in the group. This is like dividing up a task among all the members in a team.\n",
        "- Gather: We gather data from all the processes in the group and assemble it into a single tensor at the destination process. This is like collecting everyone’s input and putting it together in one place.\n",
        "- Reduce: We take data from all processes in the group, apply a specific operation to it (like summing, multiplying, finding the minimum or maximum), and then store the result in the destination process. This is like combining everyone’s efforts and producing a single output\n",
        "\n",
        "However, we can’t just directly use these operations from PyTorch like `torch.distributed.broadcast`. This is because in training, let’s say we are broadcasting a tensor `x` from device 0 to all devices 1, 2, and 3 during the forward pass. We must also support the reverse order during the backward pass. This means we have to write a broadcast operation that can handle both forward and backward passes.\n"
      ]
    },
    {
      "cell_type": "code",
      "execution_count": 23,
      "metadata": {
        "id": "23AT94Hffomd"
      },
      "outputs": [],
      "source": [
        "def is_grad_enable(input):\n",
        "    return torch.is_grad_enabled() and input.requires_grad\n",
        "\n",
        "def broadcast(inputs):\n",
        "    return inputs.clone()\n",
        "\n",
        "def reduce(inputs):\n",
        "    world_size_of_parallel_group = torch.distributed.get_world_size()\n",
        "\n",
        "    if world_size_of_parallel_group == 1:\n",
        "        return inputs\n",
        "\n",
        "    torch.distributed.all_reduce(\n",
        "        inputs,\n",
        "        op=torch.distributed.ReduceOp.SUM\n",
        "    )\n",
        "\n",
        "    return inputs\n",
        "\n",
        "class Broadcast(torch.autograd.Function):\n",
        "    @staticmethod\n",
        "    def forward(ctx, input):\n",
        "        return broadcast(input)\n",
        "\n",
        "    @staticmethod\n",
        "    def backward(ctx, grad_output):\n",
        "        return reduce(grad_output)\n",
        "\n",
        "def broadcast_with_backward(inputs):\n",
        "    if is_grad_enable(inputs):\n",
        "        outputs = Broadcast.apply(inputs)\n",
        "    else:\n",
        "        outputs = broadcast(inputs)\n",
        "    return outputs"
      ]
    },
    {
      "attachments": {},
      "cell_type": "markdown",
      "metadata": {
        "id": "aI9MfFS0p_1M"
      },
      "source": [
        "In the forward pass, all the workers - different parts of our computer system - start with the same model parameters. One worker, usually the boss or ‘master’, gives these parameters to everyone else at the beginning of each cycle (`torch.distributed.broadcast()`)`.\n",
        "\n",
        "In the backward pass, each worker does its own calculation. They all figure out their own gradients - basically, these are pointers that show how to tweak the model to improve it. After everyone’s done their calculations, they pool together their gradients. Each gradient represents the best direction to adjust the weight to minimize the loss with respect to its mini-batch. What we want is to find an average direction that works best for all the model replicas, so we pool all these gradients together (`torch.distributed.all_reduce()`). Then, we use this big pooled gradient to tweak the model’s parameters, making it a bit better with each cycle."
      ]
    },
    {
      "attachments": {},
      "cell_type": "markdown",
      "metadata": {
        "id": "DfUGSJTbpAnw"
      },
      "source": [
        "## 3. Let’s implement `ColumnLinearParallel` from scratch\n",
        "\n",
        "Let’s start with an simple example how does ColumnParallelLinear works. Then, we jump to implement a version that support the backward pass\n"
      ]
    },
    {
      "cell_type": "code",
      "execution_count": 24,
      "metadata": {
        "colab": {
          "base_uri": "https://localhost:8080/"
        },
        "id": "FgFmSeYGftge",
        "outputId": "73742de8-b12f-4947-99aa-088b508b6859"
      },
      "outputs": [
        {
          "name": "stdout",
          "output_type": "stream",
          "text": [
            "tensor([[ 0.3243, -3.0032],\n",
            "        [ 0.3713,  0.7296]])\n",
            "=\n",
            "tensor([[ 1.5410, -0.2934, -2.1788,  0.5684],\n",
            "        [-1.0845, -1.3986,  0.4033,  0.8380]])\n",
            "@\n",
            "tensor([[-0.7193, -0.4033],\n",
            "        [-0.5966,  0.1820],\n",
            "        [-0.8567,  1.1006],\n",
            "        [-1.0712,  0.1227]])\n"
          ]
        }
      ],
      "source": [
        "torch.manual_seed(0)\n",
        "\n",
        "inputs = torch.randn([2, 4])\n",
        "weights = torch.randn([4, 2])\n",
        "\n",
        "outputs = torch.matmul(inputs, weights)\n",
        "\n",
        "print(*[f\"{outputs}\", f\"=\\n{inputs}\", f\"@\\n{weights}\"], sep=\"\\n\")"
      ]
    },
    {
      "cell_type": "code",
      "execution_count": 25,
      "metadata": {
        "id": "fo0pDVjmfwFK"
      },
      "outputs": [],
      "source": [
        "def compute_column_parallel_linear(inputs, weights, n_partritions):\n",
        "    last_dim_size = weights.shape[-1]\n",
        "    partrition_size = last_dim_size // n_partritions\n",
        "    w1, w2 = weights[:, :partrition_size], weights[:, partrition_size:]\n",
        "    out1 = torch.matmul(inputs, w1)\n",
        "    out2 = torch.matmul(inputs, w2)\n",
        "    return torch.cat([out1, out2], dim=-1)"
      ]
    },
    {
      "cell_type": "code",
      "execution_count": 26,
      "metadata": {
        "colab": {
          "base_uri": "https://localhost:8080/"
        },
        "id": "uUa_5NQPfy-d",
        "outputId": "646c5d1c-3d7c-4704-9d61-6e1efba8f066"
      },
      "outputs": [
        {
          "data": {
            "text/plain": [
              "True"
            ]
          },
          "execution_count": 26,
          "metadata": {},
          "output_type": "execute_result"
        }
      ],
      "source": [
        "outputs_parallel = compute_column_parallel_linear(inputs, weights, n_partritions=2)\n",
        "torch.allclose(outputs, outputs_parallel, rtol=1e-3)"
      ]
    },
    {
      "attachments": {},
      "cell_type": "markdown",
      "metadata": {
        "id": "L6NcLL1tsM8q"
      },
      "source": [
        "\n",
        "In summary, the `ColumnParallelLinear` class divides the work of a linear layer across multiple processes. It does this by dividing the output dimension of the layer among the processes. Each process then computes its portion of the output and the gradients during the forward and backward passes, respectively. After the forward pass, the outputs from all the processes are gathered together to create the final output tensor. During the backward pass, the gradients are distributed across all the processes, and each process uses its portion of the gradient to update its parameters."
      ]
    },
    {
      "cell_type": "code",
      "execution_count": 27,
      "metadata": {
        "id": "jYVrE4iof0TF"
      },
      "outputs": [],
      "source": [
        "from torch import nn\n",
        "from torch.nn import functional as F\n",
        "\n",
        "class f(torch.autograd.Function):\n",
        "    @staticmethod\n",
        "    def forward(ctx, input, weight, bias):\n",
        "        output = F.linear(input, weight, bias)\n",
        "        return output\n",
        "\n",
        "    @staticmethod\n",
        "    def backward(ctx, grad_output):\n",
        "        torch.distributed.all_reduce(\n",
        "            grad_output,\n",
        "            op=torch.distributed.ReduceOp.SUM\n",
        "        )\n",
        "        return grad_output\n",
        "\n",
        "class g(torch.autograd.Function):\n",
        "    @staticmethod\n",
        "    def forward(ctx, input):\n",
        "        world_size = torch.distributed.get_world_size()\n",
        "        inputs = [torch.empty_like(input) for _ in range(world_size)]\n",
        "        torch.distributed.all_gather(inputs, input)\n",
        "        inputs = torch.cat(inputs, dim=-1)\n",
        "        return inputs\n",
        "\n",
        "    @staticmethod\n",
        "    def backward(ctx, grad_output):\n",
        "        rank = torch.distributed.get_rank()\n",
        "        world_size = torch.distributed.get_world_size()\n",
        "        dim_size = grad_output.shape[-1]\n",
        "        dim_size_per_partition = dim_size // world_size\n",
        "        grad_chunks = torch.split(grad_output, dim_size_per_partition, dim=-1)\n",
        "        return grad_chunks[rank]\n",
        "\n",
        "\n",
        "class ColumnParallelLinear(torch.nn.Module):\n",
        "    def __init__(self, input_size, output_size, world_size):\n",
        "        super().__init__()\n",
        "        self.input_size = input_size\n",
        "        self.output_size = output_size\n",
        "        self.output_size_per_partition = output_size // world_size\n",
        "\n",
        "        self.weight = nn.Parameter(torch.empty(\n",
        "            self.output_size_per_partition,\n",
        "            self.input_size,\n",
        "        ))\n",
        "        self.bias = nn.Parameter(torch.empty(\n",
        "            self.output_size_per_partition,\n",
        "        ))\n",
        "\n",
        "    def forward(self, input):\n",
        "        output_parallel = f.apply(input, self.weight, self.bias)\n",
        "        outputs = g.apply(output_parallel)\n",
        "        return outputs"
      ]
    },
    {
      "attachments": {},
      "cell_type": "markdown",
      "metadata": {
        "id": "3LqWuX48sRAV"
      },
      "source": [
        "### Explain\n",
        "\n",
        "From the `f` class\n",
        "\n",
        "- `output = F.linear(input, self.weight, self.bias)`: The output partition corresponding to the current process.\n",
        "\n",
        "From the `g` class\n",
        "\n",
        "- `inputs = [torch.empty_like(input) for _ in range(world_size)]`: This line creates an outputs list with empty tensors that have the same shape as `input`. These tensors will be used to store the output of each process.\n",
        "\n",
        "- `torch.distributed.all_gather(inputs, input)`: The `torch.distributed.all_gather` function is called to gather the input from all processes in the distributed group and store them in the `inputs` list.\n",
        "\n",
        "From the `ColumnParallelLinear` class\n",
        "\n",
        "- `self.output_size_per_partition = output_size // world_size`: This line calculates the output size for each partition by dividing the total output size by the number of partitions. This is done because the output dimension of the linear layer is divided among multiple processes, and each process will handle its corresponding portion of the output dimension.\n",
        "\n",
        "- `self.weight = nn.Parameter(torch.empty(self.output_size_per_partition, self.input_size))`: This line initializes the weight parameter for the current process. Since each process is responsible for its own portion of the output dimension."
      ]
    },
    {
      "cell_type": "code",
      "execution_count": 28,
      "metadata": {
        "colab": {
          "base_uri": "https://localhost:8080/",
          "height": 207
        },
        "id": "UzYXWJ1IxExw",
        "outputId": "12e6adee-8a8f-4f53-9c99-64e27bb75be2"
      },
      "outputs": [
        {
          "ename": "RuntimeError",
          "evalue": "The size of tensor a (4) must match the size of tensor b (2) at non-singleton dimension 1",
          "output_type": "error",
          "traceback": [
            "\u001b[0;31m---------------------------------------------------------------------------\u001b[0m",
            "\u001b[0;31mRuntimeError\u001b[0m                              Traceback (most recent call last)",
            "Cell \u001b[0;32mIn[28], line 7\u001b[0m\n\u001b[1;32m      5\u001b[0m \u001b[39mwith\u001b[39;00m torch\u001b[39m.\u001b[39mno_grad():\n\u001b[1;32m      6\u001b[0m     \u001b[39mfor\u001b[39;00m ii, cpl \u001b[39min\u001b[39;00m \u001b[39menumerate\u001b[39m(cpls):\n\u001b[0;32m----> 7\u001b[0m         cpl\u001b[39m.\u001b[39mweight \u001b[39m+\u001b[39m\u001b[39m=\u001b[39m weights[:, ]\n",
            "\u001b[0;31mRuntimeError\u001b[0m: The size of tensor a (4) must match the size of tensor b (2) at non-singleton dimension 1"
          ]
        }
      ],
      "source": [
        "# charles' janky attempt to run ColumnParallelLinear`\n",
        "world_size = 2\n",
        "cpls = [ColumnParallelLinear(input_size=4, output_size=2, world_size=world_size) for ii in range(world_size)]\n",
        "\n",
        "with torch.no_grad():\n",
        "    for ii, cpl in enumerate(cpls):\n",
        "        cpl.weight += weights[:, ]"
      ]
    },
    {
      "cell_type": "code",
      "execution_count": null,
      "metadata": {
        "id": "2xpILdxkxRMO"
      },
      "outputs": [],
      "source": [
        "cpl(inputs)"
      ]
    }
  ],
  "metadata": {
    "colab": {
      "provenance": []
    },
    "kernelspec": {
      "display_name": "Python 3",
      "name": "python3"
    },
    "language_info": {
      "codemirror_mode": {
        "name": "ipython",
        "version": 3
      },
      "file_extension": ".py",
      "mimetype": "text/x-python",
      "name": "python",
      "nbconvert_exporter": "python",
      "pygments_lexer": "ipython3",
      "version": "3.8.16"
    }
  },
  "nbformat": 4,
  "nbformat_minor": 0
}
